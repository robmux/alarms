{
 "cells": [
  {
   "cell_type": "markdown",
   "source": [
    "## Increase system volume"
   ],
   "metadata": {
    "collapsed": false
   }
  },
  {
   "cell_type": "code",
   "execution_count": 2,
   "outputs": [
    {
     "name": "stdout",
     "output_type": "stream",
     "text": [
      "Available Themes: \r\n",
      "   chesterish\r\n",
      "   grade3\r\n",
      "   gruvboxd\r\n",
      "   gruvboxl\r\n",
      "   monokai\r\n",
      "   oceans16\r\n",
      "   onedork\r\n",
      "   solarizedd\r\n",
      "   solarizedl\r\n",
      "Available Themes: \r\n",
      "   chesterish\r\n",
      "   grade3\r\n",
      "   gruvboxd\r\n",
      "   gruvboxl\r\n",
      "   monokai\r\n",
      "   oceans16\r\n",
      "   onedork\r\n",
      "   solarizedd\r\n",
      "   solarizedl\r\n"
     ]
    }
   ],
   "source": [
    "!jt -l"
   ],
   "metadata": {
    "collapsed": false
   }
  },
  {
   "cell_type": "code",
   "execution_count": 11,
   "outputs": [],
   "source": [
    "!jt -t solarizedd"
   ],
   "metadata": {
    "collapsed": false
   }
  },
  {
   "cell_type": "code",
   "execution_count": 6,
   "metadata": {},
   "outputs": [],
   "source": [
    "import os\n",
    "\n",
    "def set_volume(level):\n",
    "    # Increase the volume\n",
    "    command = f\"amixer set Master {level}%\"\n",
    "    os.system(command)\n",
    "\n",
    "def increase_volume(percent):\n",
    "    # Increase the volume\n",
    "    command = f\"amixer set Master {percent}%+\"\n",
    "    os.system(command)\n",
    "\n",
    "\n",
    "def decrease_volume(percent):\n",
    "    # Increase the volume\n",
    "    command = f\"amixer set Master {percent}%-\"\n",
    "    os.system(command)\n",
    "    \n",
    "def get_current_volume():\n",
    "    command = \"amixer get Master | grep '%' | cut -d '[' -f2 | cut -d ']' -f1\"\n",
    "    volume = os.popen(command).read()\n",
    "\n",
    "    return volume.split(\"%\")[0]"
   ]
  },
  {
   "cell_type": "code",
   "execution_count": 7,
   "metadata": {},
   "outputs": [
    {
     "name": "stdout",
     "output_type": "stream",
     "text": [
      "Current volume: 74\n"
     ]
    }
   ],
   "source": [
    "# Get current volume\n",
    "current = get_current_volume()\n",
    "print(\"Current volume: \" + current)\n"
   ]
  },
  {
   "cell_type": "code",
   "execution_count": 8,
   "outputs": [
    {
     "name": "stdout",
     "output_type": "stream",
     "text": [
      "Simple mixer control 'Master',0\n",
      "  Capabilities: pvolume pswitch pswitch-joined\n",
      "  Playback channels: Front Left - Front Right\n",
      "  Limits: Playback 0 - 65536\n",
      "  Mono:\n",
      "  Front Left: Playback 41932 [64%] [on]\n",
      "  Front Right: Playback 41932 [64%] [on]\n",
      "Current volume: 64\n"
     ]
    }
   ],
   "source": [
    "# decrease the volume x percentage\n",
    "decrease_volume(10)\n",
    "current = get_current_volume()\n",
    "\n",
    "print(\"Current volume: \" + current)"
   ],
   "metadata": {
    "collapsed": false
   }
  },
  {
   "cell_type": "code",
   "execution_count": 5,
   "metadata": {},
   "outputs": [
    {
     "name": "stdout",
     "output_type": "stream",
     "text": [
      "Current volume: 74\n"
     ]
    },
    {
     "name": "stderr",
     "output_type": "stream",
     "text": [
      "amixer: invalid option -- '1'\n",
      "Invalid switch or option -? needs an argument.\n",
      "amixer: invalid option -- '0'\n",
      "Invalid switch or option -? needs an argument.\n",
      "amixer: invalid option -- '%'\n",
      "Invalid switch or option -? needs an argument.\n",
      "amixer: invalid option -- '+'\n",
      "Invalid switch or option -? needs an argument.\n"
     ]
    }
   ],
   "source": [
    "# increase the volume x percentage\n",
    "increase_volume(10)\n",
    "current = get_current_volume()\n",
    "\n",
    "print(\"Current volume: \" + current)"
   ]
  },
  {
   "cell_type": "code",
   "execution_count": null,
   "metadata": {},
   "outputs": [],
   "source": [
    "# set volume to x percentage\n",
    "set_volume(100)\n",
    "current = get_current_volume()\n",
    "print(\"Current volume: \" + current)"
   ]
  },
  {
   "attachments": {},
   "cell_type": "markdown",
   "metadata": {},
   "source": [
    "## Open youtube url\n",
    "url = \"https://www.youtube.com/watch?v=X9jXnZS3ouU\"\n",
    "\n",
    "TODO: frame with mute? https://stackoverflow.com/questions/18682463/linking-to-youtube-muted-is-there-something-like-volume-0\n",
    "documentation https://developers.google.com/youtube/player_parameters#Parameters"
   ]
  },
  {
   "cell_type": "code",
   "execution_count": 6,
   "metadata": {},
   "outputs": [
    {
     "data": {
      "text/plain": "True"
     },
     "execution_count": 6,
     "metadata": {},
     "output_type": "execute_result"
    }
   ],
   "source": [
    "import webbrowser\n",
    "\n",
    "url = \"https://www.youtube.com/watch?v=X9jXnZS3ouU\"\n",
    "\n",
    "webbrowser.open(url, new=0, autoraise=True)"
   ]
  },
  {
   "cell_type": "markdown",
   "source": [
    "## Timer"
   ],
   "metadata": {
    "collapsed": false
   }
  },
  {
   "cell_type": "code",
   "execution_count": 14,
   "outputs": [
    {
     "name": "stdout",
     "output_type": "stream",
     "text": [
      "Started: 00:59:33\n",
      "Async event loop already running. Adding coroutine to the event loop.\n",
      "Hello ...\n",
      "... World!\n",
      "Ended: 00:59:38\n",
      "the result ok\n"
     ]
    }
   ],
   "source": [
    "import time\n",
    "import datetime\n",
    "import asyncio\n",
    "\n",
    "seconds = 5\n",
    "time_format = '%X' # HH:MM:SS\n",
    "\n",
    "async def wait(seconds_time):\n",
    "    print('Hello ...')\n",
    "    await asyncio.sleep(seconds_time)\n",
    "    print('... World!')\n",
    "    return 'ok'\n",
    "\n",
    "# If we are already in an event loop, we have to use await otherwise we need to call asyncio.run(worker)\n",
    "\"\"\"\n",
    "print(datetime.datetime.now())\n",
    "await wait()\n",
    "print(datetime.datetime.now())\n",
    "\"\"\"\n",
    "async def handle_wait(time_to : int):\n",
    "    try:\n",
    "        loop = asyncio.get_running_loop()\n",
    "    except RuntimeError:  # 'RuntimeError: There is no current event loop...'\n",
    "        loop = None\n",
    "\n",
    "    result = None\n",
    "    print(f\"Started: {time.strftime(time_format)}\")\n",
    "    if loop and loop.is_running():\n",
    "        print('Async event loop already running. Adding coroutine to the event loop.')\n",
    "        tsk = loop.create_task(wait(time_to))\n",
    "        # ^-- https://docs.python.org/3/library/asyncio-task.html#task-object\n",
    "        # Optionally, a callback function can be executed when the coroutine completes\n",
    "        #tsk.add_done_callback(\n",
    "        #    lambda t: print(f'Task done with result={t.result()}  << return val of main()'))\n",
    "        result = await tsk\n",
    "    else:\n",
    "        print('Starting new event loop')\n",
    "        result = asyncio.run(wait(time_to))\n",
    "        print('result ', result)\n",
    "\n",
    "    print(f\"Ended: {time.strftime(time_format)}\")\n",
    "    return result\n",
    "result = await handle_wait(seconds)\n",
    "print(f'the result {result}')"
   ],
   "metadata": {
    "collapsed": false
   }
  },
  {
   "cell_type": "code",
   "execution_count": null,
   "outputs": [],
   "source": [],
   "metadata": {
    "collapsed": false
   }
  }
 ],
 "metadata": {
  "kernelspec": {
   "display_name": ".venv",
   "language": "python",
   "name": "python3"
  },
  "language_info": {
   "codemirror_mode": {
    "name": "ipython",
    "version": 3
   },
   "file_extension": ".py",
   "mimetype": "text/x-python",
   "name": "python",
   "nbconvert_exporter": "python",
   "pygments_lexer": "ipython3",
   "version": "3.11.2"
  },
  "orig_nbformat": 4
 },
 "nbformat": 4,
 "nbformat_minor": 2
}
