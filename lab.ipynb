{
 "cells": [
  {
   "attachments": {},
   "cell_type": "markdown",
   "metadata": {},
   "source": [
    "## Increase system volume"
   ]
  },
  {
   "cell_type": "code",
   "execution_count": 4,
   "metadata": {},
   "outputs": [],
   "source": [
    "import os\n",
    "\n",
    "def set_volume(level):\n",
    "    # Increase the volume\n",
    "    command = f\"amixer set Master {level}%\"\n",
    "    os.system(command)\n",
    "\n",
    "def increase_volume(percent):\n",
    "    # Increase the volume\n",
    "    command = f\"amixer set Master {percent}%+\"\n",
    "    os.system(command)\n",
    "    \n",
    "def get_current_volume():\n",
    "    command = \"amixer get Master | grep '%' | cut -d '[' -f2 | cut -d ']' -f1\"\n",
    "    volume = os.popen(command).read()\n",
    "\n",
    "    return volume.split(\"%\")[0]"
   ]
  },
  {
   "cell_type": "code",
   "execution_count": 2,
   "metadata": {},
   "outputs": [
    {
     "name": "stdout",
     "output_type": "stream",
     "text": [
      "Current volume: 54\n"
     ]
    }
   ],
   "source": [
    "# Get current volume\n",
    "current = get_current_volume()\n",
    "print(\"Current volume: \" + current)\n"
   ]
  },
  {
   "cell_type": "code",
   "execution_count": 5,
   "metadata": {},
   "outputs": [
    {
     "name": "stdout",
     "output_type": "stream",
     "text": [
      "Simple mixer control 'Master',0\n",
      "  Capabilities: pvolume pswitch pswitch-joined\n",
      "  Playback channels: Front Left - Front Right\n",
      "  Limits: Playback 0 - 65536\n",
      "  Mono:\n",
      "  Front Left: Playback 48486 [74%] [on]\n",
      "  Front Right: Playback 48486 [74%] [on]\n",
      "Current volume: 74\n"
     ]
    }
   ],
   "source": [
    "# increase the volume x percentage\n",
    "increase_volume(10)\n",
    "current = get_current_volume()\n",
    "\n",
    "print(\"Current volume: \" + current)"
   ]
  },
  {
   "cell_type": "code",
   "execution_count": null,
   "metadata": {},
   "outputs": [],
   "source": [
    "# set volume to x percentage\n",
    "set_volume(100)\n",
    "current = get_current_volume()\n",
    "print(\"Current volume: \" + current)"
   ]
  },
  {
   "attachments": {},
   "cell_type": "markdown",
   "metadata": {},
   "source": [
    "## Open youtube url\n",
    "url = \"https://www.youtube.com/watch?v=X9jXnZS3ouU\"\n",
    "\n",
    "TODO: frame with mute? https://stackoverflow.com/questions/18682463/linking-to-youtube-muted-is-there-something-like-volume-0\n",
    "documentation https://developers.google.com/youtube/player_parameters#Parameters"
   ]
  },
  {
   "cell_type": "code",
   "execution_count": 6,
   "metadata": {},
   "outputs": [
    {
     "data": {
      "text/plain": "True"
     },
     "execution_count": 6,
     "metadata": {},
     "output_type": "execute_result"
    }
   ],
   "source": [
    "import webbrowser\n",
    "\n",
    "url = \"https://www.youtube.com/watch?v=X9jXnZS3ouU\"\n",
    "\n",
    "webbrowser.open(url, new=0, autoraise=True)"
   ]
  }
 ],
 "metadata": {
  "kernelspec": {
   "display_name": ".venv",
   "language": "python",
   "name": "python3"
  },
  "language_info": {
   "codemirror_mode": {
    "name": "ipython",
    "version": 3
   },
   "file_extension": ".py",
   "mimetype": "text/x-python",
   "name": "python",
   "nbconvert_exporter": "python",
   "pygments_lexer": "ipython3",
   "version": "3.11.2"
  },
  "orig_nbformat": 4
 },
 "nbformat": 4,
 "nbformat_minor": 2
}
